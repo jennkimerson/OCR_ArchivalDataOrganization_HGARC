{
  "nbformat": 4,
  "nbformat_minor": 0,
  "metadata": {
    "colab": {
      "name": "Image Enhancement.ipynb",
      "version": "0.3.2",
      "provenance": [],
      "collapsed_sections": [],
      "include_colab_link": true
    },
    "kernelspec": {
      "name": "python3",
      "display_name": "Python 3"
    }
  },
  "cells": [
    {
      "cell_type": "markdown",
      "metadata": {
        "id": "view-in-github",
        "colab_type": "text"
      },
      "source": [
        "<a href=\"https://colab.research.google.com/github/jennkimerson/OCR_ArchivalDataOrganization_HGARC/blob/mk2/Image_Enhancement.ipynb\" target=\"_parent\"><img src=\"https://colab.research.google.com/assets/colab-badge.svg\" alt=\"Open In Colab\"/></a>"
      ]
    },
    {
      "metadata": {
        "id": "xe8wGiI2KBKv",
        "colab_type": "text"
      },
      "cell_type": "markdown",
      "source": [
        "# Improving image quality\n",
        "\n",
        "Credit to https://gist.github.com/githubharald/24052afa05b6811b7f7a821fea1ef6e8#file-preprocesstextimage-py\n"
      ]
    },
    {
      "metadata": {
        "id": "BhPl-L20C5Vn",
        "colab_type": "code",
        "colab": {}
      },
      "cell_type": "code",
      "source": [
        "import numpy as np\n",
        "import cv2\n"
      ],
      "execution_count": 0,
      "outputs": []
    },
    {
      "metadata": {
        "id": "Uu8rg-P_-9nB",
        "colab_type": "code",
        "colab": {}
      },
      "cell_type": "code",
      "source": [
        "# read\n",
        "img = cv2.imread('sample.jpg', cv2.IMREAD_GRAYSCALE)"
      ],
      "execution_count": 0,
      "outputs": []
    },
    {
      "metadata": {
        "id": "pvmSs5IOBsfw",
        "colab_type": "code",
        "colab": {}
      },
      "cell_type": "code",
      "source": [
        "# increase contrast\n",
        "pxmin = np.min(img)\n",
        "pxmax = np.max(img)\n",
        "imgContrast = (img - pxmin) / (pxmax - pxmin) * 255"
      ],
      "execution_count": 0,
      "outputs": []
    },
    {
      "metadata": {
        "id": "6aa9tHYJCd94",
        "colab_type": "code",
        "colab": {}
      },
      "cell_type": "code",
      "source": [
        "# increase line width\n",
        "kernel = np.ones((3, 3), np.uint8)\n",
        "imgMorph = cv2.erode(imgContrast, kernel, iterations = 1)"
      ],
      "execution_count": 0,
      "outputs": []
    },
    {
      "metadata": {
        "id": "WYuGbN_1Ch-H",
        "colab_type": "code",
        "outputId": "6249c933-7223-413b-d87f-ce401d984774",
        "colab": {
          "base_uri": "https://localhost:8080/",
          "height": 34
        }
      },
      "cell_type": "code",
      "source": [
        "# write\n",
        "cv2.imwrite('out.png', imgMorph)"
      ],
      "execution_count": 0,
      "outputs": [
        {
          "output_type": "execute_result",
          "data": {
            "text/plain": [
              "True"
            ]
          },
          "metadata": {
            "tags": []
          },
          "execution_count": 23
        }
      ]
    }
  ]
}