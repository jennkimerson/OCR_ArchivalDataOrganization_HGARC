{
  "nbformat": 4,
  "nbformat_minor": 0,
  "metadata": {
    "colab": {
      "name": "Mk.3.ipynb",
      "version": "0.3.2",
      "provenance": [],
      "collapsed_sections": [],
      "include_colab_link": true
    },
    "kernelspec": {
      "name": "python3",
      "display_name": "Python 3"
    }
  },
  "cells": [
    {
      "cell_type": "markdown",
      "metadata": {
        "id": "view-in-github",
        "colab_type": "text"
      },
      "source": [
        "<a href=\"https://colab.research.google.com/github/jennkimerson/OCR_ArchivalDataOrganization_HGARC/blob/master/Mk_3.ipynb\" target=\"_parent\"><img src=\"https://colab.research.google.com/assets/colab-badge.svg\" alt=\"Open In Colab\"/></a>"
      ]
    },
    {
      "metadata": {
        "id": "i0-xxD4_-voi",
        "colab_type": "text"
      },
      "cell_type": "markdown",
      "source": [
        "# Mk. 3\n",
        "Reads in text vertically in attempts to preserve white spaces. Then the text will be transposed into horizontal text with white spaces preserved.\n",
        "\n",
        "Work in progress, last updated 5/1/2019"
      ]
    },
    {
      "metadata": {
        "id": "KawwWXYl_D86",
        "colab_type": "text"
      },
      "cell_type": "markdown",
      "source": [
        "## I. Data Selection\n",
        "Prompts the user to select pages they want to read in"
      ]
    },
    {
      "metadata": {
        "id": "Au8QxPAR-vK9",
        "colab_type": "code",
        "colab": {
          "base_uri": "https://localhost:8080/",
          "height": 190
        },
        "outputId": "b2d1501e-b4c6-4347-dc73-4f11e74a425d"
      },
      "cell_type": "code",
      "source": [
        "!pip install PyPDF2"
      ],
      "execution_count": 1,
      "outputs": [
        {
          "output_type": "stream",
          "text": [
            "Collecting PyPDF2\n",
            "\u001b[?25l  Downloading https://files.pythonhosted.org/packages/b4/01/68fcc0d43daf4c6bdbc6b33cc3f77bda531c86b174cac56ef0ffdb96faab/PyPDF2-1.26.0.tar.gz (77kB)\n",
            "\u001b[K    100% |████████████████████████████████| 81kB 3.1MB/s \n",
            "\u001b[?25hBuilding wheels for collected packages: PyPDF2\n",
            "  Building wheel for PyPDF2 (setup.py) ... \u001b[?25ldone\n",
            "\u001b[?25h  Stored in directory: /root/.cache/pip/wheels/53/84/19/35bc977c8bf5f0c23a8a011aa958acd4da4bbd7a229315c1b7\n",
            "Successfully built PyPDF2\n",
            "Installing collected packages: PyPDF2\n",
            "Successfully installed PyPDF2-1.26.0\n"
          ],
          "name": "stdout"
        }
      ]
    },
    {
      "metadata": {
        "id": "RikyPEAf_TTc",
        "colab_type": "code",
        "colab": {
          "resources": {
            "http://localhost:8080/nbextensions/google.colab/files.js": {
              "data": "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",
              "ok": true,
              "headers": [
                [
                  "content-type",
                  "application/javascript"
                ]
              ],
              "status": 200,
              "status_text": ""
            }
          },
          "base_uri": "https://localhost:8080/",
          "height": 71
        },
        "outputId": "33057c80-ea04-499c-b613-bc14e625742e"
      },
      "cell_type": "code",
      "source": [
        "import PyPDF2\n",
        "\n",
        "# takes in a file from the user and imports the image file\n",
        "from google.colab import files\n",
        "\n",
        "uploaded = files.upload()"
      ],
      "execution_count": 3,
      "outputs": [
        {
          "output_type": "display_data",
          "data": {
            "text/html": [
              "\n",
              "     <input type=\"file\" id=\"files-0f494b6e-5e99-4778-b8c2-e5f6b336ccb5\" name=\"files[]\" multiple disabled />\n",
              "     <output id=\"result-0f494b6e-5e99-4778-b8c2-e5f6b336ccb5\">\n",
              "      Upload widget is only available when the cell has been executed in the\n",
              "      current browser session. Please rerun this cell to enable.\n",
              "      </output>\n",
              "      <script src=\"/nbextensions/google.colab/files.js\"></script> "
            ],
            "text/plain": [
              "<IPython.core.display.HTML object>"
            ]
          },
          "metadata": {
            "tags": []
          }
        },
        {
          "output_type": "stream",
          "text": [
            "Saving Bellah, James Warner inventory 1965-2016.pdf to Bellah, James Warner inventory 1965-2016.pdf\n"
          ],
          "name": "stdout"
        }
      ]
    },
    {
      "metadata": {
        "id": "iJDgWDa4__ft",
        "colab_type": "text"
      },
      "cell_type": "markdown",
      "source": [
        "## II. File Conversion\n",
        "Read in PDF to images"
      ]
    },
    {
      "metadata": {
        "id": "pDYe3aqFACsF",
        "colab_type": "code",
        "colab": {}
      },
      "cell_type": "code",
      "source": [
        ""
      ],
      "execution_count": 0,
      "outputs": []
    },
    {
      "metadata": {
        "id": "wuUkpvxqAOKG",
        "colab_type": "text"
      },
      "cell_type": "markdown",
      "source": [
        "## III. Enhance Image\n",
        "Reduce the background noise in images for accurate scanning\n",
        "\n",
        "Credit to: \n",
        "https://gist.github.com/githubharald/24052afa05b6811b7f7a821fea1ef6e8#file-preprocesstextimage-py"
      ]
    },
    {
      "metadata": {
        "id": "vcU7b6tvAQxO",
        "colab_type": "code",
        "colab": {}
      },
      "cell_type": "code",
      "source": [
        "import numpy as np\n",
        "import cv2"
      ],
      "execution_count": 0,
      "outputs": []
    },
    {
      "metadata": {
        "id": "S2AMOQf5AffK",
        "colab_type": "code",
        "colab": {}
      },
      "cell_type": "code",
      "source": [
        "# read\n",
        "img = cv2.imread('sample.jpg', cv2.IMREAD_GRAYSCALE)"
      ],
      "execution_count": 0,
      "outputs": []
    },
    {
      "metadata": {
        "id": "cpfhAtL5Ag1v",
        "colab_type": "code",
        "colab": {}
      },
      "cell_type": "code",
      "source": [
        "# increase contrast\n",
        "pxmin = np.min(img)\n",
        "pxmax = np.max(img)\n",
        "imgContrast = (img - pxmin) / (pxmax - pxmin) * 255"
      ],
      "execution_count": 0,
      "outputs": []
    },
    {
      "metadata": {
        "id": "7JlO-RLSAvTV",
        "colab_type": "code",
        "colab": {}
      },
      "cell_type": "code",
      "source": [
        "# increase line width\n",
        "kernel = np.ones((3, 3), np.uint8)\n",
        "imgMorph = cv2.erode(imgContrast, kernel, iterations = 1)"
      ],
      "execution_count": 0,
      "outputs": []
    },
    {
      "metadata": {
        "id": "gVOcY1fhCgz-",
        "colab_type": "code",
        "colab": {}
      },
      "cell_type": "code",
      "source": [
        "# write\n",
        "cv2.imwrite('out.jpg', imgMorph)"
      ],
      "execution_count": 0,
      "outputs": []
    },
    {
      "metadata": {
        "id": "pOlwNTpwC0vm",
        "colab_type": "text"
      },
      "cell_type": "markdown",
      "source": [
        "## III. Horizontal Scan\n",
        "\n",
        "Horizontally scan the image and extract the text and create a text file"
      ]
    },
    {
      "metadata": {
        "id": "TRQWOvrhDAWc",
        "colab_type": "code",
        "colab": {
          "base_uri": "https://localhost:8080/",
          "height": 870
        },
        "outputId": "d922b5aa-a829-4fbb-f127-c71cd5be4c4a"
      },
      "cell_type": "code",
      "source": [
        "!pip install pytesseract\n",
        "!sudo apt install tesseract-ocr\n",
        "#!git clone https://github.com/jennkimerson/OCR_ArchivalDataOrganization_HGARC.git\n",
        "import pytesseract"
      ],
      "execution_count": 18,
      "outputs": [
        {
          "output_type": "stream",
          "text": [
            "Collecting pytesseract\n",
            "\u001b[?25l  Downloading https://files.pythonhosted.org/packages/71/5a/d7600cad26276d991feecb27f3627ae2d0ee89aa1e3065fa4f9f1f2defbc/pytesseract-0.2.6.tar.gz (169kB)\n",
            "\u001b[K    100% |████████████████████████████████| 174kB 6.6MB/s \n",
            "\u001b[?25hRequirement already satisfied: Pillow in /usr/local/lib/python3.6/dist-packages (from pytesseract) (4.3.0)\n",
            "Requirement already satisfied: olefile in /usr/local/lib/python3.6/dist-packages (from Pillow->pytesseract) (0.46)\n",
            "Building wheels for collected packages: pytesseract\n",
            "  Building wheel for pytesseract (setup.py) ... \u001b[?25ldone\n",
            "\u001b[?25h  Stored in directory: /root/.cache/pip/wheels/d5/90/56/ab7b652592da86821293f7cadc1c554aa376a0d57ce414d0a0\n",
            "Successfully built pytesseract\n",
            "Installing collected packages: pytesseract\n",
            "Successfully installed pytesseract-0.2.6\n",
            "Reading package lists... Done\n",
            "Building dependency tree       \n",
            "Reading state information... Done\n",
            "The following package was automatically installed and is no longer required:\n",
            "  libnvidia-common-410\n",
            "Use 'sudo apt autoremove' to remove it.\n",
            "The following additional packages will be installed:\n",
            "  tesseract-ocr-eng tesseract-ocr-osd\n",
            "The following NEW packages will be installed:\n",
            "  tesseract-ocr tesseract-ocr-eng tesseract-ocr-osd\n",
            "0 upgraded, 3 newly installed, 0 to remove and 6 not upgraded.\n",
            "Need to get 4,795 kB of archives.\n",
            "After this operation, 15.8 MB of additional disk space will be used.\n",
            "Get:1 http://archive.ubuntu.com/ubuntu bionic/universe amd64 tesseract-ocr-eng all 4.00~git24-0e00fe6-1.2 [1,588 kB]\n",
            "Get:2 http://archive.ubuntu.com/ubuntu bionic/universe amd64 tesseract-ocr-osd all 4.00~git24-0e00fe6-1.2 [2,989 kB]\n",
            "Get:3 http://archive.ubuntu.com/ubuntu bionic/universe amd64 tesseract-ocr amd64 4.00~git2288-10f4998a-2 [218 kB]\n",
            "Fetched 4,795 kB in 1s (4,712 kB/s)\n",
            "debconf: unable to initialize frontend: Dialog\n",
            "debconf: (No usable dialog-like program is installed, so the dialog based frontend cannot be used. at /usr/share/perl5/Debconf/FrontEnd/Dialog.pm line 76, <> line 3.)\n",
            "debconf: falling back to frontend: Readline\n",
            "debconf: unable to initialize frontend: Readline\n",
            "debconf: (This frontend requires a controlling tty.)\n",
            "debconf: falling back to frontend: Teletype\n",
            "dpkg-preconfigure: unable to re-open stdin: \n",
            "Selecting previously unselected package tesseract-ocr-eng.\n",
            "(Reading database ... 131304 files and directories currently installed.)\n",
            "Preparing to unpack .../tesseract-ocr-eng_4.00~git24-0e00fe6-1.2_all.deb ...\n",
            "Unpacking tesseract-ocr-eng (4.00~git24-0e00fe6-1.2) ...\n",
            "Selecting previously unselected package tesseract-ocr-osd.\n",
            "Preparing to unpack .../tesseract-ocr-osd_4.00~git24-0e00fe6-1.2_all.deb ...\n",
            "Unpacking tesseract-ocr-osd (4.00~git24-0e00fe6-1.2) ...\n",
            "Selecting previously unselected package tesseract-ocr.\n",
            "Preparing to unpack .../tesseract-ocr_4.00~git2288-10f4998a-2_amd64.deb ...\n",
            "Unpacking tesseract-ocr (4.00~git2288-10f4998a-2) ...\n",
            "Setting up tesseract-ocr-osd (4.00~git24-0e00fe6-1.2) ...\n",
            "Setting up tesseract-ocr-eng (4.00~git24-0e00fe6-1.2) ...\n",
            "Processing triggers for man-db (2.8.3-2ubuntu0.1) ...\n",
            "Setting up tesseract-ocr (4.00~git2288-10f4998a-2) ...\n"
          ],
          "name": "stdout"
        }
      ]
    },
    {
      "metadata": {
        "id": "3qt3hcAgDPt9",
        "colab_type": "code",
        "colab": {}
      },
      "cell_type": "code",
      "source": [
        "try:\n",
        "    from PIL import Image\n",
        "except ImportError:\n",
        "    import Image"
      ],
      "execution_count": 0,
      "outputs": []
    },
    {
      "metadata": {
        "id": "XCDIOmt0DQLN",
        "colab_type": "code",
        "colab": {
          "base_uri": "https://localhost:8080/",
          "height": 527
        },
        "outputId": "adff0b50-d2a6-46ed-fe25-d24c8444e4b4"
      },
      "cell_type": "code",
      "source": [
        "# converts image file to string\n",
        "#result = pytesseract.image_to_string(Image.open('out.jpg'))\n",
        "text = pytesseract.image_to_string(Image.open('out.jpg'), config='-psm 6')\n",
        "\n",
        "#print (result)\n",
        "print (\"text :{0}\".format(text))"
      ],
      "execution_count": 20,
      "outputs": [
        {
          "output_type": "stream",
          "text": [
            "text :Box 5\n",
            "\n",
            "Box 1\n",
            "Box 5\n",
            "\n",
            "folder - Book formt\n",
            "\n",
            "folder - Misic score with TIS from P. 8. Odegard who d/d scores incl.\n",
            "\n",
            "folder - clippings of reviews\n",
            "\n",
            "folder - Preface to Japanese ed. +. 2 /. dated Se 196} and c. copy with\n",
            "corrections indicated in other copy.\n",
            "\n",
            "folder - Preliminary corr. Houghton 1955-56\n",
            "incl. draft (holo.) of E B, telegram to (R. Wilson) at publishers\n",
            "corr re its being BOM choice 1956 and copy of BOM announcement also\n",
            "re its Eng. publ.\n",
            "\n",
            "folder - contracts\n",
            "\n",
            "folder - publicity\n",
            "\n",
            "folder - fan mil\n",
            "\n",
            "folder - movie corr.\n",
            "\n",
            "folder - motion picture notes - holo. 18/.\n",
            "\n",
            "folder - motion pict. script +t. c. on yellow paper.\n"
          ],
          "name": "stdout"
        }
      ]
    },
    {
      "metadata": {
        "id": "Dug9Iy0YDZ0l",
        "colab_type": "code",
        "colab": {}
      },
      "cell_type": "code",
      "source": [
        "# converts string to text file\n",
        "with open('textfile.txt', 'w') as f:\n",
        "  f.write(text)\n",
        "\n",
        "files.download('textfile.txt')"
      ],
      "execution_count": 0,
      "outputs": []
    },
    {
      "metadata": {
        "id": "FmAwkx9nD0i_",
        "colab_type": "text"
      },
      "cell_type": "markdown",
      "source": [
        "## IV. Vertical Scan\n",
        "\n",
        "Vertically scan the image and extract the text and create a text file\n",
        "\n",
        "Credit to:\n",
        "https://github.com/madmaze/pytesseract/blob/master/src/pytesseract.py"
      ]
    },
    {
      "metadata": {
        "id": "6Me-G1PdD3Md",
        "colab_type": "code",
        "colab": {}
      },
      "cell_type": "code",
      "source": [
        "import os\n",
        "import sys\n",
        "import subprocess\n",
        "import tempfile\n",
        "import shlex\n",
        "import string\n",
        "from glob import iglob\n",
        "from csv import QUOTE_NONE\n",
        "from functools import wraps\n",
        "from pkgutil import find_loader\n",
        "from distutils.version import LooseVersion\n",
        "from os.path import realpath, normpath, normcase"
      ],
      "execution_count": 0,
      "outputs": []
    },
    {
      "metadata": {
        "id": "SvV0dwzWEBAf",
        "colab_type": "code",
        "colab": {}
      },
      "cell_type": "code",
      "source": [
        "numpy_installed = find_loader('numpy') is not None\n",
        "if numpy_installed:\n",
        "    from numpy import ndarray"
      ],
      "execution_count": 0,
      "outputs": []
    },
    {
      "metadata": {
        "id": "YWp09dQYECNn",
        "colab_type": "code",
        "colab": {}
      },
      "cell_type": "code",
      "source": [
        "from io import BytesIO\n",
        "pandas_installed = find_loader('pandas') is not None\n",
        "if pandas_installed:\n",
        "    import pandas as pd"
      ],
      "execution_count": 0,
      "outputs": []
    },
    {
      "metadata": {
        "id": "PcwlPn6wEDXf",
        "colab_type": "code",
        "colab": {}
      },
      "cell_type": "code",
      "source": [
        "tesseract_cmd = 'tesseract'\n",
        "RGB_MODE = 'RGB'\n",
        "OSD_KEYS = {\n",
        "    'Page number': ('page_num', int),\n",
        "    'Orientation in degrees': ('orientation', int),\n",
        "    'Rotate': ('rotate', int),\n",
        "    'Orientation confidence': ('orientation_conf', float),\n",
        "    'Script': ('script', str),\n",
        "    'Script confidence': ('script_conf', float)\n",
        "}"
      ],
      "execution_count": 0,
      "outputs": []
    },
    {
      "metadata": {
        "id": "5P_i2o86EHge",
        "colab_type": "code",
        "colab": {}
      },
      "cell_type": "code",
      "source": [
        "class Output:\n",
        "    BYTES = 'bytes'\n",
        "    DATAFRAME = 'data.frame'\n",
        "    DICT = 'dict'\n",
        "    STRING = 'string'\n"
      ],
      "execution_count": 0,
      "outputs": []
    },
    {
      "metadata": {
        "id": "YEaQAUjBEIvG",
        "colab_type": "code",
        "colab": {}
      },
      "cell_type": "code",
      "source": [
        "class PandasNotSupported(EnvironmentError):\n",
        "    def __init__(self):\n",
        "        super(PandasNotSupported, self).__init__('Missing pandas package')"
      ],
      "execution_count": 0,
      "outputs": []
    },
    {
      "metadata": {
        "id": "UDqIcYnyEJ9l",
        "colab_type": "code",
        "colab": {}
      },
      "cell_type": "code",
      "source": [
        "class TesseractError(RuntimeError):\n",
        "    def __init__(self, status, message):\n",
        "        self.status = status\n",
        "        self.message = message\n",
        "        self.args = (status, message)"
      ],
      "execution_count": 0,
      "outputs": []
    },
    {
      "metadata": {
        "id": "8oqbKdJjENjF",
        "colab_type": "code",
        "colab": {}
      },
      "cell_type": "code",
      "source": [
        "class TesseractNotFoundError(EnvironmentError):\n",
        "    def __init__(self):\n",
        "        super(TesseractNotFoundError, self).__init__(\n",
        "            tesseract_cmd + \" is not installed or it's not in your path\"\n",
        "        )"
      ],
      "execution_count": 0,
      "outputs": []
    },
    {
      "metadata": {
        "id": "RyhdHpouEPIl",
        "colab_type": "code",
        "colab": {}
      },
      "cell_type": "code",
      "source": [
        "class TSVNotSupported(EnvironmentError):\n",
        "    def __init__(self):\n",
        "        super(TSVNotSupported, self).__init__(\n",
        "            'TSV output not supported. Tesseract >= 3.05 required'\n",
        "        )\n"
      ],
      "execution_count": 0,
      "outputs": []
    },
    {
      "metadata": {
        "id": "w4uvz6KlEQ09",
        "colab_type": "code",
        "colab": {}
      },
      "cell_type": "code",
      "source": [
        "def run_once(func):\n",
        "    @wraps(func)\n",
        "    def wrapper(*args, **kwargs):\n",
        "        if wrapper._result is wrapper:\n",
        "            wrapper._result = func(*args, **kwargs)\n",
        "        return wrapper._result\n",
        "\n",
        "    wrapper._result = wrapper\n",
        "    return wrapper"
      ],
      "execution_count": 0,
      "outputs": []
    },
    {
      "metadata": {
        "id": "-N47mcEpER59",
        "colab_type": "code",
        "colab": {}
      },
      "cell_type": "code",
      "source": [
        "def get_errors(error_string):\n",
        "    return u' '.join(\n",
        "        line for line in error_string.decode('utf-8').splitlines()\n",
        "    ).strip()"
      ],
      "execution_count": 0,
      "outputs": []
    },
    {
      "metadata": {
        "id": "C1bKfjbTETIt",
        "colab_type": "code",
        "colab": {}
      },
      "cell_type": "code",
      "source": [
        "def cleanup(temp_name):\n",
        "    ''' Tries to remove temp files by filename wildcard path. '''\n",
        "    for filename in iglob(temp_name + '*' if temp_name else temp_name):\n",
        "        try:\n",
        "            os.remove(filename)\n",
        "        except OSError:\n",
        "            pass\n"
      ],
      "execution_count": 0,
      "outputs": []
    },
    {
      "metadata": {
        "id": "Lt6mTm3OEUB8",
        "colab_type": "code",
        "colab": {}
      },
      "cell_type": "code",
      "source": [
        "def prepare(image):\n",
        "    if isinstance(image, Image.Image):\n",
        "        return image\n",
        "\n",
        "    if numpy_installed and isinstance(image, ndarray):\n",
        "        return Image.fromarray(image)\n",
        "\n",
        "    raise TypeError('Unsupported image object')"
      ],
      "execution_count": 0,
      "outputs": []
    },
    {
      "metadata": {
        "id": "RVaIRxWDEVik",
        "colab_type": "code",
        "colab": {}
      },
      "cell_type": "code",
      "source": [
        "def save_image(image):\n",
        "    _, temp_name = tempfile.mkstemp(prefix='tess_')\n",
        "    if isinstance(image, str):\n",
        "        return temp_name, realpath(normpath(normcase(image)))\n",
        "\n",
        "    image = prepare(image)\n",
        "    img_extension = image.format\n",
        "    if image.format not in {'JPEG', 'PNG', 'TIFF', 'BMP', 'GIF'}:\n",
        "        img_extension = 'PNG'\n",
        "\n",
        "    if not image.mode.startswith(RGB_MODE):\n",
        "        image = image.convert(RGB_MODE)\n",
        "\n",
        "    if 'A' in image.getbands():\n",
        "        # discard and replace the alpha channel with white background\n",
        "        background = Image.new(RGB_MODE, image.size, (255, 255, 255))\n",
        "        background.paste(image, (0, 0), image)\n",
        "        image = background\n",
        "\n",
        "    input_file_name = temp_name + os.extsep + img_extension\n",
        "    image.save(input_file_name, format=img_extension, **image.info)\n",
        "    return temp_name, input_file_name"
      ],
      "execution_count": 0,
      "outputs": []
    },
    {
      "metadata": {
        "id": "p6FO-HX7EXFM",
        "colab_type": "code",
        "colab": {}
      },
      "cell_type": "code",
      "source": [
        "def subprocess_args(include_stdout=True):\n",
        "    # See https://github.com/pyinstaller/pyinstaller/wiki/Recipe-subprocess\n",
        "    # for reference and comments.\n",
        "\n",
        "    kwargs = {\n",
        "        'stdin': subprocess.PIPE,\n",
        "        'stderr': subprocess.PIPE,\n",
        "        'startupinfo': None,\n",
        "        'env': os.environ\n",
        "    }\n",
        "\n",
        "    if hasattr(subprocess, 'STARTUPINFO'):\n",
        "        kwargs['startupinfo'] = subprocess.STARTUPINFO()\n",
        "        kwargs['startupinfo'].dwFlags |= subprocess.STARTF_USESHOWWINDOW\n",
        "        kwargs['startupinfo'].wShowWindow = subprocess.SW_HIDE\n",
        "\n",
        "    if include_stdout:\n",
        "        kwargs['stdout'] = subprocess.PIPE\n",
        "\n",
        "    return kwargs"
      ],
      "execution_count": 0,
      "outputs": []
    },
    {
      "metadata": {
        "id": "T2rROELZEZA0",
        "colab_type": "code",
        "colab": {}
      },
      "cell_type": "code",
      "source": [
        "def run_tesseract(input_filename,\n",
        "                  output_filename_base,\n",
        "                  extension,\n",
        "                  lang,\n",
        "                  config='',\n",
        "                  nice=0):\n",
        "    cmd_args = []\n",
        "\n",
        "    if not sys.platform.startswith('win32') and nice != 0:\n",
        "        cmd_args += ('nice', '-n', str(nice))\n",
        "\n",
        "    cmd_args += (tesseract_cmd, input_filename, output_filename_base)\n",
        "\n",
        "    if lang is not None:\n",
        "        cmd_args += ('-l', lang)\n",
        "\n",
        "    cmd_args += shlex.split(config)\n",
        "\n",
        "    if extension not in {'box', 'osd', 'tsv'}:\n",
        "        cmd_args.append(extension)\n",
        "\n",
        "    try:\n",
        "        proc = subprocess.Popen(cmd_args, **subprocess_args())\n",
        "    except OSError:\n",
        "        raise TesseractNotFoundError()\n",
        "\n",
        "    try:\n",
        "        _, error_string = proc.communicate()\n",
        "    finally:\n",
        "        proc.stdin.close()\n",
        "        proc.stdout.close()\n",
        "        proc.stderr.close()\n",
        "\n",
        "    if proc.returncode:\n",
        "        raise TesseractError(proc.returncode, get_errors(error_string))\n"
      ],
      "execution_count": 0,
      "outputs": []
    },
    {
      "metadata": {
        "id": "lE7NP5g2EbyC",
        "colab_type": "code",
        "colab": {}
      },
      "cell_type": "code",
      "source": [
        "def run_and_get_output(image,\n",
        "                       extension,\n",
        "                       lang=None,\n",
        "                       config='',\n",
        "                       nice=0,\n",
        "                       return_bytes=False):\n",
        "\n",
        "    temp_name, input_filename = '', ''\n",
        "    try:\n",
        "        temp_name, input_filename = save_image(image)\n",
        "        kwargs = {\n",
        "            'input_filename': input_filename,\n",
        "            'output_filename_base': temp_name + '_out',\n",
        "            'extension': extension,\n",
        "            'lang': lang,\n",
        "            'config': config,\n",
        "            'nice': nice\n",
        "        }\n",
        "\n",
        "        run_tesseract(**kwargs)\n",
        "        filename = kwargs['output_filename_base'] + os.extsep + extension\n",
        "        with open(filename, 'rb') as output_file:\n",
        "            if return_bytes:\n",
        "                return output_file.read()\n",
        "            return output_file.read().decode('utf-8').strip()\n",
        "    finally:\n",
        "        cleanup(temp_name)"
      ],
      "execution_count": 0,
      "outputs": []
    },
    {
      "metadata": {
        "id": "1phTHWHOEdzL",
        "colab_type": "code",
        "colab": {}
      },
      "cell_type": "code",
      "source": [
        "def file_to_dict(tsv, cell_delimiter, str_col_idx):\n",
        "    result = {}\n",
        "    rows = [row.split(cell_delimiter) for row in tsv.split('\\n')]\n",
        "    if not rows:\n",
        "        return result\n",
        "\n",
        "    header = rows.pop(0)\n",
        "    length = len(header)\n",
        "    if len(rows[-1]) < length:\n",
        "        # Fixes bug that occurs when last text string in TSV is null, and\n",
        "        # last row is missing a final cell in TSV file\n",
        "        rows[-1].append('')\n",
        "\n",
        "    if str_col_idx < 0:\n",
        "        str_col_idx += length\n",
        "\n",
        "    for i, head in enumerate(header):\n",
        "        result[head] = list()\n",
        "        for row in rows:\n",
        "            if len(row) <= i:\n",
        "                continue\n",
        "\n",
        "            val = row[i]\n",
        "            if row[i].isdigit() and i != str_col_idx:\n",
        "                val = int(row[i])\n",
        "            result[head].append(val)\n",
        "\n",
        "    return result"
      ],
      "execution_count": 0,
      "outputs": []
    },
    {
      "metadata": {
        "id": "JmOhIyTgEfUz",
        "colab_type": "code",
        "colab": {}
      },
      "cell_type": "code",
      "source": [
        "def is_valid(val, _type):\n",
        "    if _type is int:\n",
        "        return val.isdigit()\n",
        "\n",
        "    if _type is float:\n",
        "        try:\n",
        "            float(val)\n",
        "            return True\n",
        "        except ValueError:\n",
        "            return False\n",
        "\n",
        "    return True"
      ],
      "execution_count": 0,
      "outputs": []
    },
    {
      "metadata": {
        "id": "qicApNUnEgvs",
        "colab_type": "code",
        "colab": {}
      },
      "cell_type": "code",
      "source": [
        "def osd_to_dict(osd):\n",
        "    return {\n",
        "        OSD_KEYS[kv[0]][0]: OSD_KEYS[kv[0]][1](kv[1]) for kv in (\n",
        "            line.split(': ') for line in osd.split('\\n')\n",
        "        ) if len(kv) == 2 and is_valid(kv[1], OSD_KEYS[kv[0]][1])\n",
        "    }"
      ],
      "execution_count": 0,
      "outputs": []
    },
    {
      "metadata": {
        "id": "LOLOfMDSEh2z",
        "colab_type": "code",
        "colab": {}
      },
      "cell_type": "code",
      "source": [
        "@run_once\n",
        "def get_tesseract_version():\n",
        "    '''\n",
        "    Returns LooseVersion object of the Tesseract version\n",
        "    '''\n",
        "    try:\n",
        "        return LooseVersion(\n",
        "            subprocess.check_output(\n",
        "                [tesseract_cmd, '--version'], stderr=subprocess.STDOUT\n",
        "            ).decode('utf-8').split()[1].lstrip(string.printable[10:])\n",
        "        )\n",
        "    except OSError:\n",
        "        raise TesseractNotFoundError()\n"
      ],
      "execution_count": 0,
      "outputs": []
    },
    {
      "metadata": {
        "id": "DeSKEXJyEjHD",
        "colab_type": "code",
        "colab": {}
      },
      "cell_type": "code",
      "source": [
        "def image_to_string(image,\n",
        "                    lang=None,\n",
        "                    config='',\n",
        "                    nice=0,\n",
        "                    output_type=Output.STRING):\n",
        "    '''\n",
        "    Returns the result of a Tesseract OCR run on the provided image to string\n",
        "    '''\n",
        "    args = [image, 'txt', lang, config, nice]\n",
        "\n",
        "    return {\n",
        "        Output.BYTES: lambda: run_and_get_output(*(args + [True])),\n",
        "        Output.DICT: lambda: {'text': run_and_get_output(*args)},\n",
        "        Output.STRING: lambda: run_and_get_output(*args),\n",
        "    }[output_type]()\n"
      ],
      "execution_count": 0,
      "outputs": []
    },
    {
      "metadata": {
        "id": "l-lXkwTUEkSz",
        "colab_type": "code",
        "colab": {}
      },
      "cell_type": "code",
      "source": [
        "def image_to_pdf_or_hocr(image,\n",
        "                    lang=None,\n",
        "                    config='',\n",
        "                    nice=0,\n",
        "                    extension='pdf'):\n",
        "    '''\n",
        "    Returns the result of a Tesseract OCR run on the provided image to pdf/hocr\n",
        "    '''\n",
        "\n",
        "    if extension not in {'pdf', 'hocr'}:\n",
        "        raise ValueError('Unsupported extension: {}'.format(extension))\n",
        "    args = [image, extension, lang, config, nice, True]\n",
        "\n",
        "    return run_and_get_output(*args)"
      ],
      "execution_count": 0,
      "outputs": []
    },
    {
      "metadata": {
        "id": "-njDa48HEmFq",
        "colab_type": "code",
        "colab": {}
      },
      "cell_type": "code",
      "source": [
        "def image_to_boxes(image,\n",
        "                   lang=None,\n",
        "                   config='',\n",
        "                   nice=0,\n",
        "                   output_type=Output.STRING):\n",
        "    '''\n",
        "    Returns string containing recognized characters and their box boundaries\n",
        "    '''\n",
        "    config += ' batch.nochop makebox'\n",
        "    args = [image, 'box', lang, config, nice]\n",
        "\n",
        "    return {\n",
        "        Output.BYTES: lambda: run_and_get_output(*(args + [True])),\n",
        "        Output.DICT: lambda: file_to_dict(\n",
        "            'char left bottom right top page\\n' + run_and_get_output(*args),\n",
        "            ' ',\n",
        "            0),\n",
        "        Output.STRING: lambda: run_and_get_output(*args),\n",
        "    }[output_type]()"
      ],
      "execution_count": 0,
      "outputs": []
    },
    {
      "metadata": {
        "id": "oJ3CSBl-Eob4",
        "colab_type": "code",
        "colab": {}
      },
      "cell_type": "code",
      "source": [
        "def get_pandas_output(args):\n",
        "    if not pandas_installed:\n",
        "        raise PandasNotSupported()\n",
        "\n",
        "    return pd.read_csv(\n",
        "        BytesIO(run_and_get_output(*args)),\n",
        "        quoting=QUOTE_NONE,\n",
        "        sep='\\t'\n",
        "    )"
      ],
      "execution_count": 0,
      "outputs": []
    },
    {
      "metadata": {
        "id": "xeWXjTuWEpk6",
        "colab_type": "code",
        "colab": {}
      },
      "cell_type": "code",
      "source": [
        "def image_to_data(image,\n",
        "                  lang=None,\n",
        "                  config='',\n",
        "                  nice=0,\n",
        "                  output_type=Output.STRING):\n",
        "    '''\n",
        "    Returns string containing box boundaries, confidences,\n",
        "    and other information. Requires Tesseract 3.05+\n",
        "    '''\n",
        "\n",
        "    if get_tesseract_version() < '3.05':\n",
        "        raise TSVNotSupported()\n",
        "\n",
        "    config = '{} {}'.format('-c tessedit_create_tsv=1', config.strip()).strip()\n",
        "    args = [image, 'tsv', lang, config, nice]\n",
        "\n",
        "    return {\n",
        "        Output.BYTES: lambda: run_and_get_output(*(args + [True])),\n",
        "        Output.DATAFRAME: lambda: get_pandas_output(args + [True]),\n",
        "        Output.DICT: lambda: file_to_dict(run_and_get_output(*args), '\\t', -1),\n",
        "        Output.STRING: lambda: run_and_get_output(*args),\n",
        "    }[output_type]()\n"
      ],
      "execution_count": 0,
      "outputs": []
    },
    {
      "metadata": {
        "id": "3QPBBAwsErU6",
        "colab_type": "code",
        "colab": {}
      },
      "cell_type": "code",
      "source": [
        "def image_to_osd(image,\n",
        "                 lang='osd',\n",
        "                 config='',\n",
        "                 nice=0,\n",
        "                 output_type=Output.STRING):\n",
        "    '''\n",
        "    Returns string containing the orientation and script detection (OSD)\n",
        "    '''\n",
        "    config = '{}-psm 0 {}'.format(\n",
        "        '' if get_tesseract_version() < '3.05' else '-',\n",
        "        config.strip()\n",
        "    ).strip()\n",
        "    args = [image, 'osd', lang, config, nice]\n",
        "\n",
        "    return {\n",
        "        Output.BYTES: lambda: run_and_get_output(*(args + [True])),\n",
        "        Output.DICT: lambda: osd_to_dict(run_and_get_output(*args)),\n",
        "        Output.STRING: lambda: run_and_get_output(*args),\n",
        "    }[output_type]()"
      ],
      "execution_count": 0,
      "outputs": []
    },
    {
      "metadata": {
        "id": "jK7Q2muQEsjx",
        "colab_type": "code",
        "colab": {}
      },
      "cell_type": "code",
      "source": [
        "def main():\n",
        "    if len(sys.argv) == 2:\n",
        "        filename, lang = sys.argv[1], None\n",
        "    elif len(sys.argv) == 4 and sys.argv[1] == '-l':\n",
        "        filename, lang = sys.argv[3], sys.argv[2]\n",
        "    else:\n",
        "        sys.stderr.write('Usage: python pytesseract.py [-l lang] input_file\\n')\n",
        "        exit(2)\n",
        "\n",
        "    try:\n",
        "        with Image.open(filename) as img:\n",
        "            print(image_to_string(img, lang=lang))\n",
        "    except IOError:\n",
        "        sys.stderr.write('ERROR: Could not open file \"%s\"\\n' % filename)\n",
        "        exit(1)"
      ],
      "execution_count": 0,
      "outputs": []
    },
    {
      "metadata": {
        "id": "C068BQzrF6Ae",
        "colab_type": "code",
        "colab": {}
      },
      "cell_type": "code",
      "source": [
        "if __name__ == '__main__':\n",
        "    main()"
      ],
      "execution_count": 0,
      "outputs": []
    },
    {
      "metadata": {
        "id": "UKofrBoRE5Hl",
        "colab_type": "text"
      },
      "cell_type": "markdown",
      "source": [
        "## VI. Transpose\n",
        "Transpose the vertically scanned result to horizontal"
      ]
    },
    {
      "metadata": {
        "id": "0vUgkCgYE_Bi",
        "colab_type": "code",
        "colab": {}
      },
      "cell_type": "code",
      "source": [
        ""
      ],
      "execution_count": 0,
      "outputs": []
    },
    {
      "metadata": {
        "id": "4MkMYZhcE_i5",
        "colab_type": "text"
      },
      "cell_type": "markdown",
      "source": [
        "## VII. Quality Check\n",
        "Match the transposed vertical text file with horizontally scanned result to quality check"
      ]
    },
    {
      "metadata": {
        "id": "72mTbc6-FCcv",
        "colab_type": "code",
        "colab": {}
      },
      "cell_type": "code",
      "source": [
        ""
      ],
      "execution_count": 0,
      "outputs": []
    },
    {
      "metadata": {
        "id": "EKTvXcYUFDCW",
        "colab_type": "text"
      },
      "cell_type": "markdown",
      "source": [
        "## VIII. Structure Selection & Data Categorization\n",
        "Prompts the user for structure (formatting and organization of data)"
      ]
    },
    {
      "metadata": {
        "id": "oA7J19LiFEU-",
        "colab_type": "code",
        "colab": {}
      },
      "cell_type": "code",
      "source": [
        ""
      ],
      "execution_count": 0,
      "outputs": []
    },
    {
      "metadata": {
        "id": "e2dMXMngFGgh",
        "colab_type": "text"
      },
      "cell_type": "markdown",
      "source": [
        "## IX. Reassemble Data\n",
        "Create a CSV or Excel file with the processed data"
      ]
    },
    {
      "metadata": {
        "id": "follH7qEFI-d",
        "colab_type": "code",
        "colab": {
          "base_uri": "https://localhost:8080/",
          "height": 207
        },
        "outputId": "e3734058-314f-4975-c76b-4a9d9faba7d4"
      },
      "cell_type": "code",
      "source": [
        "! pip install XlsxWriter\n",
        "! pip install pandas\n",
        "import pandas as pd"
      ],
      "execution_count": 52,
      "outputs": [
        {
          "output_type": "stream",
          "text": [
            "Collecting XlsxWriter\n",
            "\u001b[?25l  Downloading https://files.pythonhosted.org/packages/35/7d/d432d6718452432b66e3ec29efafad2deea1bc9e5232951413523aeef8df/XlsxWriter-1.1.7-py2.py3-none-any.whl (139kB)\n",
            "\u001b[K    100% |████████████████████████████████| 143kB 6.6MB/s \n",
            "\u001b[?25hInstalling collected packages: XlsxWriter\n",
            "Successfully installed XlsxWriter-1.1.7\n",
            "Requirement already satisfied: pandas in /usr/local/lib/python3.6/dist-packages (0.24.2)\n",
            "Requirement already satisfied: numpy>=1.12.0 in /usr/local/lib/python3.6/dist-packages (from pandas) (1.16.3)\n",
            "Requirement already satisfied: pytz>=2011k in /usr/local/lib/python3.6/dist-packages (from pandas) (2018.9)\n",
            "Requirement already satisfied: python-dateutil>=2.5.0 in /usr/local/lib/python3.6/dist-packages (from pandas) (2.5.3)\n",
            "Requirement already satisfied: six>=1.5 in /usr/local/lib/python3.6/dist-packages (from python-dateutil>=2.5.0->pandas) (1.12.0)\n"
          ],
          "name": "stdout"
        }
      ]
    },
    {
      "metadata": {
        "id": "_xI-BjCRFSCk",
        "colab_type": "code",
        "colab": {}
      },
      "cell_type": "code",
      "source": [
        "df= pd.DataFrame(split)\n",
        "#df = df.transpose()\n",
        "\n",
        "print(df)"
      ],
      "execution_count": 0,
      "outputs": []
    },
    {
      "metadata": {
        "id": "GwGJWGfjFXK4",
        "colab_type": "code",
        "colab": {}
      },
      "cell_type": "code",
      "source": [
        "df.to_excel(\"output.xlsx\")"
      ],
      "execution_count": 0,
      "outputs": []
    }
  ]
}
