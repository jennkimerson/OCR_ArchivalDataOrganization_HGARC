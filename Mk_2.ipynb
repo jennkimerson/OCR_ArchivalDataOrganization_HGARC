{
  "nbformat": 4,
  "nbformat_minor": 0,
  "metadata": {
    "colab": {
      "name": "Mk.2.ipynb",
      "version": "0.3.2",
      "provenance": [],
      "collapsed_sections": [],
      "toc_visible": true,
      "include_colab_link": true
    },
    "kernelspec": {
      "name": "python3",
      "display_name": "Python 3"
    }
  },
  "cells": [
    {
      "cell_type": "markdown",
      "metadata": {
        "id": "view-in-github",
        "colab_type": "text"
      },
      "source": [
        "<a href=\"https://colab.research.google.com/github/jennkimerson/OCR_ArchivalDataOrganization_HGARC/blob/master/Mk_2.ipynb\" target=\"_parent\"><img src=\"https://colab.research.google.com/assets/colab-badge.svg\" alt=\"Open In Colab\"/></a>"
      ]
    },
    {
      "metadata": {
        "id": "6iZ1PNMvRzBS",
        "colab_type": "text"
      },
      "cell_type": "markdown",
      "source": [
        "# MK.2"
      ]
    },
    {
      "metadata": {
        "id": "7I2YyzgeR1-e",
        "colab_type": "text"
      },
      "cell_type": "markdown",
      "source": [
        "## OCR: Image to Text"
      ]
    },
    {
      "metadata": {
        "id": "DDE2xl6UpmZs",
        "colab_type": "code",
        "outputId": "bcde449e-d0e7-432b-dfe5-aad320478a74",
        "colab": {
          "base_uri": "https://localhost:8080/",
          "height": 870
        }
      },
      "cell_type": "code",
      "source": [
        "!pip install pytesseract\n",
        "!sudo apt install tesseract-ocr\n",
        "#!git clone https://github.com/jennkimerson/OCR_ArchivalDataOrganization_HGARC.git\n",
        "import pytesseract"
      ],
      "execution_count": 1,
      "outputs": [
        {
          "output_type": "stream",
          "text": [
            "Collecting pytesseract\n",
            "\u001b[?25l  Downloading https://files.pythonhosted.org/packages/71/5a/d7600cad26276d991feecb27f3627ae2d0ee89aa1e3065fa4f9f1f2defbc/pytesseract-0.2.6.tar.gz (169kB)\n",
            "\u001b[K    100% |████████████████████████████████| 174kB 6.9MB/s \n",
            "\u001b[?25hRequirement already satisfied: Pillow in /usr/local/lib/python3.6/dist-packages (from pytesseract) (4.3.0)\n",
            "Requirement already satisfied: olefile in /usr/local/lib/python3.6/dist-packages (from Pillow->pytesseract) (0.46)\n",
            "Building wheels for collected packages: pytesseract\n",
            "  Building wheel for pytesseract (setup.py) ... \u001b[?25ldone\n",
            "\u001b[?25h  Stored in directory: /root/.cache/pip/wheels/d5/90/56/ab7b652592da86821293f7cadc1c554aa376a0d57ce414d0a0\n",
            "Successfully built pytesseract\n",
            "Installing collected packages: pytesseract\n",
            "Successfully installed pytesseract-0.2.6\n",
            "Reading package lists... Done\n",
            "Building dependency tree       \n",
            "Reading state information... Done\n",
            "The following package was automatically installed and is no longer required:\n",
            "  libnvidia-common-410\n",
            "Use 'sudo apt autoremove' to remove it.\n",
            "The following additional packages will be installed:\n",
            "  tesseract-ocr-eng tesseract-ocr-osd\n",
            "The following NEW packages will be installed:\n",
            "  tesseract-ocr tesseract-ocr-eng tesseract-ocr-osd\n",
            "0 upgraded, 3 newly installed, 0 to remove and 6 not upgraded.\n",
            "Need to get 4,795 kB of archives.\n",
            "After this operation, 15.8 MB of additional disk space will be used.\n",
            "Get:1 http://archive.ubuntu.com/ubuntu bionic/universe amd64 tesseract-ocr-eng all 4.00~git24-0e00fe6-1.2 [1,588 kB]\n",
            "Get:2 http://archive.ubuntu.com/ubuntu bionic/universe amd64 tesseract-ocr-osd all 4.00~git24-0e00fe6-1.2 [2,989 kB]\n",
            "Get:3 http://archive.ubuntu.com/ubuntu bionic/universe amd64 tesseract-ocr amd64 4.00~git2288-10f4998a-2 [218 kB]\n",
            "Fetched 4,795 kB in 1s (4,305 kB/s)\n",
            "debconf: unable to initialize frontend: Dialog\n",
            "debconf: (No usable dialog-like program is installed, so the dialog based frontend cannot be used. at /usr/share/perl5/Debconf/FrontEnd/Dialog.pm line 76, <> line 3.)\n",
            "debconf: falling back to frontend: Readline\n",
            "debconf: unable to initialize frontend: Readline\n",
            "debconf: (This frontend requires a controlling tty.)\n",
            "debconf: falling back to frontend: Teletype\n",
            "dpkg-preconfigure: unable to re-open stdin: \n",
            "Selecting previously unselected package tesseract-ocr-eng.\n",
            "(Reading database ... 131304 files and directories currently installed.)\n",
            "Preparing to unpack .../tesseract-ocr-eng_4.00~git24-0e00fe6-1.2_all.deb ...\n",
            "Unpacking tesseract-ocr-eng (4.00~git24-0e00fe6-1.2) ...\n",
            "Selecting previously unselected package tesseract-ocr-osd.\n",
            "Preparing to unpack .../tesseract-ocr-osd_4.00~git24-0e00fe6-1.2_all.deb ...\n",
            "Unpacking tesseract-ocr-osd (4.00~git24-0e00fe6-1.2) ...\n",
            "Selecting previously unselected package tesseract-ocr.\n",
            "Preparing to unpack .../tesseract-ocr_4.00~git2288-10f4998a-2_amd64.deb ...\n",
            "Unpacking tesseract-ocr (4.00~git2288-10f4998a-2) ...\n",
            "Setting up tesseract-ocr-osd (4.00~git24-0e00fe6-1.2) ...\n",
            "Setting up tesseract-ocr-eng (4.00~git24-0e00fe6-1.2) ...\n",
            "Processing triggers for man-db (2.8.3-2ubuntu0.1) ...\n",
            "Setting up tesseract-ocr (4.00~git2288-10f4998a-2) ...\n"
          ],
          "name": "stdout"
        }
      ]
    },
    {
      "metadata": {
        "id": "V-qOL43dr9fv",
        "colab_type": "code",
        "colab": {}
      },
      "cell_type": "code",
      "source": [
        "try:\n",
        "    from PIL import Image\n",
        "except ImportError:\n",
        "    import Image"
      ],
      "execution_count": 0,
      "outputs": []
    },
    {
      "metadata": {
        "id": "ok7rhbZesCBl",
        "colab_type": "code",
        "outputId": "874fda07-3513-4551-834c-0498a71b6e4c",
        "colab": {
          "resources": {
            "http://localhost:8080/nbextensions/google.colab/files.js": {
              "data": "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",
              "ok": true,
              "headers": [
                [
                  "content-type",
                  "application/javascript"
                ]
              ],
              "status": 200,
              "status_text": ""
            }
          },
          "base_uri": "https://localhost:8080/",
          "height": 71
        }
      },
      "cell_type": "code",
      "source": [
        "# takes in a file from the user and imports the image file\n",
        "from google.colab import files\n",
        "\n",
        "uploaded = files.upload()"
      ],
      "execution_count": 4,
      "outputs": [
        {
          "output_type": "display_data",
          "data": {
            "text/html": [
              "\n",
              "     <input type=\"file\" id=\"files-368b430f-bd96-4af9-850a-0af662a7a703\" name=\"files[]\" multiple disabled />\n",
              "     <output id=\"result-368b430f-bd96-4af9-850a-0af662a7a703\">\n",
              "      Upload widget is only available when the cell has been executed in the\n",
              "      current browser session. Please rerun this cell to enable.\n",
              "      </output>\n",
              "      <script src=\"/nbextensions/google.colab/files.js\"></script> "
            ],
            "text/plain": [
              "<IPython.core.display.HTML object>"
            ]
          },
          "metadata": {
            "tags": []
          }
        },
        {
          "output_type": "stream",
          "text": [
            "Saving image.jpg to image.jpg\n"
          ],
          "name": "stdout"
        }
      ]
    },
    {
      "metadata": {
        "id": "Jbp8SfWmsCgt",
        "colab_type": "code",
        "outputId": "99b34668-7c7e-4ebd-8082-6f0acd31c5b1",
        "colab": {
          "base_uri": "https://localhost:8080/",
          "height": 578
        }
      },
      "cell_type": "code",
      "source": [
        "# converts image file to string\n",
        "result = pytesseract.image_to_string(Image.open('image.jpg'))\n",
        "\n",
        "\n",
        "print (result)"
      ],
      "execution_count": 5,
      "outputs": [
        {
          "output_type": "stream",
          "text": [
            "Box 5\n",
            "\n",
            "Box 1\n",
            "\n",
            "Box 5\n",
            "\n",
            "folder - Book format\n",
            "\n",
            "folder - Misic score with TLS from P. S. Odegard who did scores incl.\n",
            "\n",
            "folder\n",
            "\n",
            "clippings of reviews\n",
            "\n",
            "folder - Preface to Japanese ed. +t. 2 é. dated Se 1964 and c. copy with\n",
            "corrections indicated in other copy.\n",
            "\n",
            "folder - Preliminary corr. Houghton 1955-56\n",
            "incl. draft (holo.) of E B, telegram to (R. Wilson) at publishers\n",
            "corr re its being BOM choice 1956 and copy of BOM announcement also\n",
            "re its Eng. publ.\n",
            "\n",
            "Yolder ~ contracts\n",
            "\n",
            "folder - publicity\n",
            "\n",
            "folder - fan mil\n",
            "\n",
            "folder - movie corr.\n",
            "\n",
            "folder - motion picture notes - holo. 18/.\n",
            "\n",
            "folder - motion pict. script +t. c. on yellow paper.\n"
          ],
          "name": "stdout"
        }
      ]
    },
    {
      "metadata": {
        "id": "VsbgqcZiReh-",
        "colab_type": "text"
      },
      "cell_type": "markdown",
      "source": [
        "**Image to text inaccurate at the moment:**\n",
        "- Indentation and new line off\n",
        "- leading white spaces not preserved"
      ]
    },
    {
      "metadata": {
        "id": "GVjXkSdEsN-B",
        "colab_type": "code",
        "colab": {}
      },
      "cell_type": "code",
      "source": [
        "# converts string to text file\n",
        "from google.colab import files\n",
        "\n",
        "with open('textfile.txt', 'w') as f:\n",
        "  f.write(result)\n",
        "\n",
        "files.download('textfile.txt')"
      ],
      "execution_count": 0,
      "outputs": []
    },
    {
      "metadata": {
        "id": "fKyfwdZ-SFc3",
        "colab_type": "text"
      },
      "cell_type": "markdown",
      "source": [
        "## Preserving indentation\n",
        "For the time being, assume that the above text file is cleaned and accurate\n",
        "(I created a corrected version of the file, \"textfile_clean.txt\")"
      ]
    },
    {
      "metadata": {
        "id": "YPVCCcH9sdfQ",
        "colab_type": "code",
        "colab": {}
      },
      "cell_type": "code",
      "source": [
        "# load image-to-text converted text file\n",
        "filename = \"textfile_clean.txt\"\n",
        "file = open(filename, 'rt')\n",
        "text = file.read()\n",
        "file.close()"
      ],
      "execution_count": 0,
      "outputs": []
    },
    {
      "metadata": {
        "id": "bNvdypxStCzC",
        "colab_type": "code",
        "outputId": "30b233f9-e37e-4cdf-ea99-7b2cc2eef38d",
        "colab": {
          "base_uri": "https://localhost:8080/",
          "height": 54
        }
      },
      "cell_type": "code",
      "source": [
        "# seperate text into an array of strings by line\n",
        "\n",
        "sentences = text.splitlines()\n",
        "print(sentences)"
      ],
      "execution_count": 8,
      "outputs": [
        {
          "output_type": "stream",
          "text": [
            "['Box 5     folder - Book format', '          folder - Misic score with TLS from P. S. Odegard who did scores incl.', 'Box 1     folder - clippings of reviews', 'Box 5     folder - Preface to Japanese ed. +t. 2 é. dated Se 1964 and c. copy with', '               corrections indicated in other copy.', '          folder - Preliminary corr. Houghton 1955-56', '               incl. draft (holo.) of E B, telegram to (R. Wilson) at publishers', '               corr re its being BOM choice 1956 and copy of BOM announcement also', '               re its Eng. publ.', '          folder - contracts', '          folder - publicity', '          folder - fan mil', '          folder - movie corr.', '          folder - motion picture notes - holo. 18/.', '          folder - motion pict. script t. c. on yellow paper.']\n"
          ],
          "name": "stdout"
        }
      ]
    },
    {
      "metadata": {
        "id": "nOdUtERvWIsG",
        "colab_type": "code",
        "outputId": "f0330228-c297-4b50-aeea-4b25ea6d3f02",
        "colab": {
          "base_uri": "https://localhost:8080/",
          "height": 289
        }
      },
      "cell_type": "code",
      "source": [
        "# create a list of lists containing each sentneces to be processed\n",
        "\n",
        "new_list = [[i] for i in sentences]\n",
        "#print(new_list)\n",
        "\n",
        "marks = []\n",
        "\n",
        "for element in new_list:\n",
        "  # creates an array of periods that is the same length as new_list\n",
        "  marks.append([\"$\"])\n",
        "  print(element)\n",
        "  \n",
        "print()"
      ],
      "execution_count": 9,
      "outputs": [
        {
          "output_type": "stream",
          "text": [
            "['Box 5     folder - Book format']\n",
            "['          folder - Misic score with TLS from P. S. Odegard who did scores incl.']\n",
            "['Box 1     folder - clippings of reviews']\n",
            "['Box 5     folder - Preface to Japanese ed. +t. 2 é. dated Se 1964 and c. copy with']\n",
            "['               corrections indicated in other copy.']\n",
            "['          folder - Preliminary corr. Houghton 1955-56']\n",
            "['               incl. draft (holo.) of E B, telegram to (R. Wilson) at publishers']\n",
            "['               corr re its being BOM choice 1956 and copy of BOM announcement also']\n",
            "['               re its Eng. publ.']\n",
            "['          folder - contracts']\n",
            "['          folder - publicity']\n",
            "['          folder - fan mil']\n",
            "['          folder - movie corr.']\n",
            "['          folder - motion picture notes - holo. 18/.']\n",
            "['          folder - motion pict. script t. c. on yellow paper.']\n",
            "\n"
          ],
          "name": "stdout"
        }
      ]
    },
    {
      "metadata": {
        "id": "pOfDOfEAsRTg",
        "colab_type": "code",
        "colab": {}
      },
      "cell_type": "code",
      "source": [
        "# inserts a period at the beginning of each element in the list of lists\n",
        "# this will help counting white spaces\n",
        "\n",
        "#for element in new_list:\n",
        "#  element = element.insert(0, \".\")\n",
        "#print(new_list)"
      ],
      "execution_count": 0,
      "outputs": []
    },
    {
      "metadata": {
        "id": "kkHN8p1IqTJ3",
        "colab_type": "code",
        "outputId": "9d48294b-dadb-458b-e4a5-f874f23d12bb",
        "colab": {
          "base_uri": "https://localhost:8080/",
          "height": 272
        }
      },
      "cell_type": "code",
      "source": [
        "# inserts a period at the beginning of each element in the list of lists\n",
        "# this will help counting white spaces\n",
        "import numpy as np\n",
        "a = np.array(marks, dtype=np.object) \n",
        "b = np.array(new_list, dtype=np.object)\n",
        "\n",
        "marked = a + b\n",
        "print(marked)"
      ],
      "execution_count": 11,
      "outputs": [
        {
          "output_type": "stream",
          "text": [
            "[['$Box 5     folder - Book format']\n",
            " ['$          folder - Misic score with TLS from P. S. Odegard who did scores incl.']\n",
            " ['$Box 1     folder - clippings of reviews']\n",
            " ['$Box 5     folder - Preface to Japanese ed. +t. 2 é. dated Se 1964 and c. copy with']\n",
            " ['$               corrections indicated in other copy.']\n",
            " ['$          folder - Preliminary corr. Houghton 1955-56']\n",
            " ['$               incl. draft (holo.) of E B, telegram to (R. Wilson) at publishers']\n",
            " ['$               corr re its being BOM choice 1956 and copy of BOM announcement also']\n",
            " ['$               re its Eng. publ.']\n",
            " ['$          folder - contracts']\n",
            " ['$          folder - publicity']\n",
            " ['$          folder - fan mil']\n",
            " ['$          folder - movie corr.']\n",
            " ['$          folder - motion picture notes - holo. 18/.']\n",
            " ['$          folder - motion pict. script t. c. on yellow paper.']]\n"
          ],
          "name": "stdout"
        }
      ]
    },
    {
      "metadata": {
        "id": "EhrX8oo2asnq",
        "colab_type": "code",
        "outputId": "9bbe57e7-65d6-4d45-cfda-431b3b1a3926",
        "colab": {
          "base_uri": "https://localhost:8080/",
          "height": 71
        }
      },
      "cell_type": "code",
      "source": [
        "import itertools\n",
        "merge = list(itertools.chain.from_iterable(marked))\n",
        "print(merge)\n",
        "\n",
        "merged = ''.join(merge)\n",
        "print(merged)"
      ],
      "execution_count": 12,
      "outputs": [
        {
          "output_type": "stream",
          "text": [
            "['$Box 5     folder - Book format', '$          folder - Misic score with TLS from P. S. Odegard who did scores incl.', '$Box 1     folder - clippings of reviews', '$Box 5     folder - Preface to Japanese ed. +t. 2 é. dated Se 1964 and c. copy with', '$               corrections indicated in other copy.', '$          folder - Preliminary corr. Houghton 1955-56', '$               incl. draft (holo.) of E B, telegram to (R. Wilson) at publishers', '$               corr re its being BOM choice 1956 and copy of BOM announcement also', '$               re its Eng. publ.', '$          folder - contracts', '$          folder - publicity', '$          folder - fan mil', '$          folder - movie corr.', '$          folder - motion picture notes - holo. 18/.', '$          folder - motion pict. script t. c. on yellow paper.']\n",
            "$Box 5     folder - Book format$          folder - Misic score with TLS from P. S. Odegard who did scores incl.$Box 1     folder - clippings of reviews$Box 5     folder - Preface to Japanese ed. +t. 2 é. dated Se 1964 and c. copy with$               corrections indicated in other copy.$          folder - Preliminary corr. Houghton 1955-56$               incl. draft (holo.) of E B, telegram to (R. Wilson) at publishers$               corr re its being BOM choice 1956 and copy of BOM announcement also$               re its Eng. publ.$          folder - contracts$          folder - publicity$          folder - fan mil$          folder - movie corr.$          folder - motion picture notes - holo. 18/.$          folder - motion pict. script t. c. on yellow paper.\n"
          ],
          "name": "stdout"
        }
      ]
    },
    {
      "metadata": {
        "id": "knh5Wrajcepo",
        "colab_type": "code",
        "outputId": "edee9c3b-7d46-432d-9e62-0392514ac634",
        "colab": {
          "base_uri": "https://localhost:8080/",
          "height": 54
        }
      },
      "cell_type": "code",
      "source": [
        "#count = []\n",
        "#for i in range(len(new_list)):\n",
        "#  print(str(sum( 1 for _ in itertools.takewhile(str.isspace, new_list[1:]))))\n",
        "\n",
        "split = merged.split(\"$\")\n",
        "print(split)"
      ],
      "execution_count": 13,
      "outputs": [
        {
          "output_type": "stream",
          "text": [
            "['', 'Box 5     folder - Book format', '          folder - Misic score with TLS from P. S. Odegard who did scores incl.', 'Box 1     folder - clippings of reviews', 'Box 5     folder - Preface to Japanese ed. +t. 2 é. dated Se 1964 and c. copy with', '               corrections indicated in other copy.', '          folder - Preliminary corr. Houghton 1955-56', '               incl. draft (holo.) of E B, telegram to (R. Wilson) at publishers', '               corr re its being BOM choice 1956 and copy of BOM announcement also', '               re its Eng. publ.', '          folder - contracts', '          folder - publicity', '          folder - fan mil', '          folder - movie corr.', '          folder - motion picture notes - holo. 18/.', '          folder - motion pict. script t. c. on yellow paper.']\n"
          ],
          "name": "stdout"
        }
      ]
    },
    {
      "metadata": {
        "id": "fB-fHbBSuFES",
        "colab_type": "code",
        "outputId": "f0de40e9-3478-4d18-e8a2-56e104ff68e8",
        "colab": {
          "base_uri": "https://localhost:8080/",
          "height": 34
        }
      },
      "cell_type": "code",
      "source": [
        "# count leading white sapces for each of the sentences\n",
        "\n",
        "import itertools\n",
        "\n",
        "counter = []\n",
        "\n",
        "for i in range(1, len(split)):\n",
        "  count = str(sum( 1 for _ in itertools.takewhile(str.isspace, split[i])))\n",
        "  counter.append(int(count))\n",
        "print(counter)"
      ],
      "execution_count": 14,
      "outputs": [
        {
          "output_type": "stream",
          "text": [
            "[0, 10, 0, 0, 15, 10, 15, 15, 15, 10, 10, 10, 10, 10, 10]\n"
          ],
          "name": "stdout"
        }
      ]
    },
    {
      "metadata": {
        "id": "T0oi3DV1rodD",
        "colab_type": "code",
        "outputId": "a8220f91-919f-471f-b3a5-3585a0d9a1d1",
        "colab": {
          "base_uri": "https://localhost:8080/",
          "height": 34
        }
      },
      "cell_type": "code",
      "source": [
        "# Marking indentations based on categories\n",
        "\n",
        "count_multi = [x for x in range(len(split)) if x % 5 == 0] #This value 5 is subjected to change depending on the format of the file\n",
        "print(count_multi)\n",
        "\n",
        "for i in range(1, len(split)):\n",
        "  for j in range(len(count_multi)):\n",
        "    if split[i] == count_multi[j]:\n",
        "      print(i)"
      ],
      "execution_count": 15,
      "outputs": [
        {
          "output_type": "stream",
          "text": [
            "[0, 5, 10, 15]\n"
          ],
          "name": "stdout"
        }
      ]
    },
    {
      "metadata": {
        "id": "9SjG1ljYhZBI",
        "colab_type": "text"
      },
      "cell_type": "markdown",
      "source": [
        "## Exporting to Excel File\n",
        "For the time being, assume that all the inentations are properly maked based on categories."
      ]
    },
    {
      "metadata": {
        "id": "CZtuhDkYMY9j",
        "colab_type": "code",
        "outputId": "195b9194-5c22-43ff-8345-6219b170fdf0",
        "colab": {
          "base_uri": "https://localhost:8080/",
          "height": 139
        }
      },
      "cell_type": "code",
      "source": [
        "! pip install XlsxWriter\n",
        "! pip install pandas\n",
        "import pandas as pd"
      ],
      "execution_count": 16,
      "outputs": [
        {
          "output_type": "stream",
          "text": [
            "Requirement already satisfied: XlsxWriter in /usr/local/lib/python3.6/dist-packages (1.1.7)\n",
            "Requirement already satisfied: pandas in /usr/local/lib/python3.6/dist-packages (0.24.2)\n",
            "Requirement already satisfied: python-dateutil>=2.5.0 in /usr/local/lib/python3.6/dist-packages (from pandas) (2.5.3)\n",
            "Requirement already satisfied: pytz>=2011k in /usr/local/lib/python3.6/dist-packages (from pandas) (2018.9)\n",
            "Requirement already satisfied: numpy>=1.12.0 in /usr/local/lib/python3.6/dist-packages (from pandas) (1.16.2)\n",
            "Requirement already satisfied: six>=1.5 in /usr/local/lib/python3.6/dist-packages (from python-dateutil>=2.5.0->pandas) (1.12.0)\n"
          ],
          "name": "stdout"
        }
      ]
    },
    {
      "metadata": {
        "id": "NRa9jt_ZrlKI",
        "colab_type": "code",
        "colab": {
          "base_uri": "https://localhost:8080/",
          "height": 306
        },
        "outputId": "fb9e83ac-b289-456f-8919-d62fa8049be2"
      },
      "cell_type": "code",
      "source": [
        "import pandas as pd\n",
        "\n",
        "df= pd.DataFrame(split)\n",
        "#df = df.transpose()\n",
        "\n",
        "print(df)"
      ],
      "execution_count": 35,
      "outputs": [
        {
          "output_type": "stream",
          "text": [
            "                                                    0\n",
            "0                                                    \n",
            "1                      Box 5     folder - Book format\n",
            "2             folder - Misic score with TLS from P...\n",
            "3             Box 1     folder - clippings of reviews\n",
            "4   Box 5     folder - Preface to Japanese ed. +t....\n",
            "5                  corrections indicated in other ...\n",
            "6             folder - Preliminary corr. Houghton ...\n",
            "7                  incl. draft (holo.) of E B, tel...\n",
            "8                  corr re its being BOM choice 19...\n",
            "9                                   re its Eng. publ.\n",
            "10                                 folder - contracts\n",
            "11                                 folder - publicity\n",
            "12                                   folder - fan mil\n",
            "13                               folder - movie corr.\n",
            "14            folder - motion picture notes - holo...\n",
            "15            folder - motion pict. script t. c. o...\n"
          ],
          "name": "stdout"
        }
      ]
    },
    {
      "metadata": {
        "id": "MXPID2gwtLhH",
        "colab_type": "code",
        "colab": {}
      },
      "cell_type": "code",
      "source": [
        "df.to_excel(\"output.xlsx\")"
      ],
      "execution_count": 0,
      "outputs": []
    },
    {
      "metadata": {
        "id": "NUn3LqNFUy2o",
        "colab_type": "code",
        "colab": {}
      },
      "cell_type": "code",
      "source": [
        "import xlsxwriter\n",
        "\n",
        "workbook = xlsxwriter.Workbook('final.xlsx')\n",
        "worksheet = workbook.add_worksheet()\n",
        "\n",
        "for i in range(0, len(split) - 1):\n",
        "  if counter[i]  == count_multi[0]:\n",
        "    worksheet.write('A1', split[i])\n",
        "  \n",
        "  elif counter[i] == count_multi[1]:\n",
        "    worksheet.write('B1', split[i])\n",
        "    \n",
        "  elif counter[i] == count_multi[2]:\n",
        "    worksheet.write('C1', split[i])\n",
        "  \n",
        "  elif counter[i] == count_multi[3]:\n",
        "    worksheet.write('D1', split[i])\n",
        "  \n",
        "  elif counter[i] == count_multi[4]:\n",
        "    worksheet.write('E1', split[i])\n",
        "  \n",
        "\n",
        "workbook.close()"
      ],
      "execution_count": 0,
      "outputs": []
    }
  ]
}