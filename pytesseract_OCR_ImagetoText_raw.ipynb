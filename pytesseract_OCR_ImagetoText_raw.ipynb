{
  "nbformat": 4,
  "nbformat_minor": 0,
  "metadata": {
    "colab": {
      "name": "pytesseract_OCR_ImagetoText_raw.ipynb",
      "version": "0.3.2",
      "provenance": [],
      "collapsed_sections": [],
      "include_colab_link": true
    },
    "kernelspec": {
      "name": "python3",
      "display_name": "Python 3"
    }
  },
  "cells": [
    {
      "cell_type": "markdown",
      "metadata": {
        "id": "view-in-github",
        "colab_type": "text"
      },
      "source": [
        "<a href=\"https://colab.research.google.com/github/jennkimerson/OCR_ArchivalDataOrganization_HGARC/blob/mk1/pytesseract_OCR_ImagetoText_raw.ipynb\" target=\"_parent\"><img src=\"https://colab.research.google.com/assets/colab-badge.svg\" alt=\"Open In Colab\"/></a>"
      ]
    },
    {
      "metadata": {
        "id": "_eAiSld1YZSo",
        "colab_type": "text"
      },
      "cell_type": "markdown",
      "source": [
        "# OCR\n",
        "\n",
        "Takes in an input image file in jpg, parse through the image to find text, converts image to text, and then outputs a textfile.\n",
        "\n",
        "Things to fix:\n",
        "- White space\n",
        "- Indentation\n",
        "- Hand written word\n",
        "\n",
        "Ehance!\n",
        "\n",
        "Use PIL to cut the image into strips"
      ]
    },
    {
      "metadata": {
        "id": "k_nwmoPzQZSj",
        "colab_type": "code",
        "colab": {}
      },
      "cell_type": "code",
      "source": [
        "!pip install pytesseract\n",
        "!sudo apt install tesseract-ocr\n",
        "import pytesseract"
      ],
      "execution_count": 0,
      "outputs": []
    },
    {
      "metadata": {
        "id": "-KEJUq25QvSs",
        "colab_type": "code",
        "colab": {}
      },
      "cell_type": "code",
      "source": [
        "try:\n",
        "    from PIL import Image\n",
        "except ImportError:\n",
        "    import Image"
      ],
      "execution_count": 0,
      "outputs": []
    },
    {
      "metadata": {
        "id": "mVcQI2RjQwYZ",
        "colab_type": "code",
        "colab": {}
      },
      "cell_type": "code",
      "source": [
        "#Takes in a file from the user and imports the image file\n",
        "from google.colab import files\n",
        "\n",
        "uploaded = files.upload()"
      ],
      "execution_count": 0,
      "outputs": []
    },
    {
      "metadata": {
        "id": "GVmi0-v1U0rd",
        "colab_type": "code",
        "colab": {}
      },
      "cell_type": "code",
      "source": [
        "#Converts image file to string\n",
        "result = pytesseract.image_to_string(Image.open('image.jpg'))\n",
        "\n",
        "#Attempt to preserve indentation and spacing\n",
        "#result = pytesseract.image_to_string(Image.open('image.jpg'), config='-c preserve_interword_spaces=1')\n",
        "\n",
        "\n",
        "print (result)"
      ],
      "execution_count": 0,
      "outputs": []
    },
    {
      "metadata": {
        "id": "3SvfjWWzU4Ix",
        "colab_type": "code",
        "colab": {}
      },
      "cell_type": "code",
      "source": [
        "#Converts string to text file\n",
        "from google.colab import files\n",
        "\n",
        "with open('textfile.txt', 'w') as f:\n",
        "  f.write(result)\n",
        "\n",
        "files.download('textfile.txt')"
      ],
      "execution_count": 0,
      "outputs": []
    }
  ]
}